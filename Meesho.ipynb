{
 "cells": [
  {
   "cell_type": "code",
   "execution_count": 1,
   "id": "44e98efa",
   "metadata": {},
   "outputs": [
    {
     "name": "stdout",
     "output_type": "stream",
     "text": [
      "Requirement already satisfied: requests in c:\\users\\ayushi\\anaconda3\\lib\\site-packages (2.25.1)\n",
      "Requirement already satisfied: chardet<5,>=3.0.2 in c:\\users\\ayushi\\anaconda3\\lib\\site-packages (from requests) (4.0.0)\n",
      "Requirement already satisfied: idna<3,>=2.5 in c:\\users\\ayushi\\anaconda3\\lib\\site-packages (from requests) (2.10)\n",
      "Requirement already satisfied: urllib3<1.27,>=1.21.1 in c:\\users\\ayushi\\anaconda3\\lib\\site-packages (from requests) (1.26.4)\n",
      "Requirement already satisfied: certifi>=2017.4.17 in c:\\users\\ayushi\\anaconda3\\lib\\site-packages (from requests) (2020.12.5)\n",
      "Requirement already satisfied: bs4 in c:\\users\\ayushi\\anaconda3\\lib\\site-packages (0.0.1)\n",
      "Requirement already satisfied: beautifulsoup4 in c:\\users\\ayushi\\anaconda3\\lib\\site-packages (from bs4) (4.9.3)\n",
      "Requirement already satisfied: soupsieve>1.2 in c:\\users\\ayushi\\anaconda3\\lib\\site-packages (from beautifulsoup4->bs4) (2.2.1)\n"
     ]
    }
   ],
   "source": [
    "!pip install requests\n",
    "!pip install bs4"
   ]
  },
  {
   "cell_type": "code",
   "execution_count": 3,
   "id": "3c24a96f",
   "metadata": {},
   "outputs": [],
   "source": [
    "from bs4 import BeautifulSoup\n",
    "import requests"
   ]
  },
  {
   "cell_type": "code",
   "execution_count": 15,
   "id": "433a5000",
   "metadata": {},
   "outputs": [],
   "source": [
    "page=requests.get(\"https://meesho.com/bags-ladies/pl/p7vbp\")"
   ]
  },
  {
   "cell_type": "code",
   "execution_count": 16,
   "id": "c4aa40dc",
   "metadata": {},
   "outputs": [
    {
     "data": {
      "text/plain": [
       "<Response [200]>"
      ]
     },
     "execution_count": 16,
     "metadata": {},
     "output_type": "execute_result"
    }
   ],
   "source": [
    "page"
   ]
  },
  {
   "cell_type": "code",
   "execution_count": 14,
   "id": "8b233ac9",
   "metadata": {},
   "outputs": [],
   "source": [
    "A=BeautifulSoup(page.content)"
   ]
  },
  {
   "cell_type": "code",
   "execution_count": 74,
   "id": "606df330",
   "metadata": {},
   "outputs": [
    {
     "data": {
      "text/plain": [
       "['AVI Stylish Multicolour Women Handbags',\n",
       " 'Ladies Tote Bag Brown ',\n",
       " 'Ravishing Classy Women Handbags',\n",
       " 'Bag with wooden handle',\n",
       " 'Trendy Fancy Women Handbags',\n",
       " 'Women stylish Handbag',\n",
       " 'Women stylish Handbag With Sling Handel',\n",
       " 'AVI Stylish Multicolour Women Handbag',\n",
       " \"AZED Collections Women's PU Leather Handbag - Combo Pack of 2 -Purple & Blue (12-H006PL_H007BL)\",\n",
       " 'Verma Jute Lunch Bag with Zip for Office and Home (Small, Blue)(8*10 Inch)',\n",
       " \"Woman & Girl's Handbag\",\n",
       " 'Elegant Stylish Women Handbags',\n",
       " 'Voguish Attractive Women Handbags',\n",
       " 'Trendy Alluring Women Handbags',\n",
       " 'HandBag',\n",
       " 'Voguish Stylish Women Handbags',\n",
       " 'Graceful Fancy Women Handbags',\n",
       " 'Flamebird Graceful Fashionable Women Handbags',\n",
       " 'Elegant Fancy Women Handbags',\n",
       " 'Trendy Versatile Women Handbags']"
      ]
     },
     "execution_count": 74,
     "metadata": {},
     "output_type": "execute_result"
    }
   ],
   "source": [
    "names=[]\n",
    "Count=0\n",
    "for i in A.find_all('p',class_=\"Text__StyledText-sc-oo0kvp-0 bWSOET NewProductCard__ProductTitle_Desktop-sc-j0e7tu-4 cQhePS NewProductCard__ProductTitle_Desktop-sc-j0e7tu-4 cQhePS\"):\n",
    "        names.append(i.text)\n",
    "names"
   ]
  },
  {
   "cell_type": "code",
   "execution_count": 49,
   "id": "99c97f54",
   "metadata": {},
   "outputs": [
    {
     "data": {
      "text/plain": [
       "['₹299',\n",
       " '₹375',\n",
       " '₹300',\n",
       " '₹1295',\n",
       " '₹300',\n",
       " '₹219',\n",
       " '₹230',\n",
       " '₹299',\n",
       " '₹712',\n",
       " '₹186',\n",
       " '₹310',\n",
       " '₹300',\n",
       " '₹800',\n",
       " '₹210',\n",
       " '₹213',\n",
       " '₹300',\n",
       " '₹182',\n",
       " '₹215',\n",
       " '₹500',\n",
       " '₹400']"
      ]
     },
     "execution_count": 49,
     "metadata": {},
     "output_type": "execute_result"
    }
   ],
   "source": [
    "prices=[]\n",
    "for j in A.find_all('h5',class_=\"Text__StyledText-sc-oo0kvp-0\"):\n",
    "        prices.append(j.text)    \n",
    "prices"
   ]
  },
  {
   "cell_type": "code",
   "execution_count": 72,
   "id": "7a260464",
   "metadata": {
    "scrolled": true
   },
   "outputs": [
    {
     "data": {
      "text/plain": [
       "['₹100 discount on 1st order',\n",
       " '₹100 discount on 1st order',\n",
       " '₹100 discount on 1st order',\n",
       " '₹100 discount on 1st order',\n",
       " '₹100 discount on 1st order',\n",
       " '₹93 discount on 1st order',\n",
       " '₹98 discount on 1st order',\n",
       " '₹100 discount on 1st order',\n",
       " '₹100 discount on 1st order',\n",
       " '₹79 discount on 1st order',\n",
       " '₹100 discount on 1st order',\n",
       " '₹100 discount on 1st order',\n",
       " '₹100 discount on 1st order',\n",
       " '₹90 discount on 1st order',\n",
       " '₹90 discount on 1st order',\n",
       " '₹100 discount on 1st order',\n",
       " '₹77 discount on 1st order',\n",
       " '₹92 discount on 1st order',\n",
       " '₹100 discount on 1st order',\n",
       " '₹100 discount on 1st order']"
      ]
     },
     "execution_count": 72,
     "metadata": {},
     "output_type": "execute_result"
    }
   ],
   "source": [
    "discounts=[]\n",
    "Count=0\n",
    "for i in A.find_all('div',class_=\"Card__BaseCard-sc-b3n78k-0 iJCKg NewProductCard__DiscountRow-sc-j0e7tu-15 kUcVjG NewProductCard__DiscountRow-sc-j0e7tu-15 kUcVjG\"):\n",
    "        discounts.append(i.text)   \n",
    "discounts"
   ]
  },
  {
   "cell_type": "code",
   "execution_count": 75,
   "id": "e1e3e41c",
   "metadata": {},
   "outputs": [
    {
     "name": "stdout",
     "output_type": "stream",
     "text": [
      "20 20 20\n"
     ]
    }
   ],
   "source": [
    "print(len(names),len(prices),len(discounts))"
   ]
  },
  {
   "cell_type": "code",
   "execution_count": 78,
   "id": "0a2b8a72",
   "metadata": {},
   "outputs": [
    {
     "data": {
      "text/html": [
       "<div>\n",
       "<style scoped>\n",
       "    .dataframe tbody tr th:only-of-type {\n",
       "        vertical-align: middle;\n",
       "    }\n",
       "\n",
       "    .dataframe tbody tr th {\n",
       "        vertical-align: top;\n",
       "    }\n",
       "\n",
       "    .dataframe thead th {\n",
       "        text-align: right;\n",
       "    }\n",
       "</style>\n",
       "<table border=\"1\" class=\"dataframe\">\n",
       "  <thead>\n",
       "    <tr style=\"text-align: right;\">\n",
       "      <th></th>\n",
       "      <th>product name</th>\n",
       "      <th>prices</th>\n",
       "      <th>discounts</th>\n",
       "    </tr>\n",
       "  </thead>\n",
       "  <tbody>\n",
       "    <tr>\n",
       "      <th>0</th>\n",
       "      <td>AVI Stylish Multicolour Women Handbags</td>\n",
       "      <td>₹299</td>\n",
       "      <td>₹100 discount on 1st order</td>\n",
       "    </tr>\n",
       "    <tr>\n",
       "      <th>1</th>\n",
       "      <td>Ladies Tote Bag Brown</td>\n",
       "      <td>₹375</td>\n",
       "      <td>₹100 discount on 1st order</td>\n",
       "    </tr>\n",
       "    <tr>\n",
       "      <th>2</th>\n",
       "      <td>Ravishing Classy Women Handbags</td>\n",
       "      <td>₹300</td>\n",
       "      <td>₹100 discount on 1st order</td>\n",
       "    </tr>\n",
       "    <tr>\n",
       "      <th>3</th>\n",
       "      <td>Bag with wooden handle</td>\n",
       "      <td>₹1295</td>\n",
       "      <td>₹100 discount on 1st order</td>\n",
       "    </tr>\n",
       "    <tr>\n",
       "      <th>4</th>\n",
       "      <td>Trendy Fancy Women Handbags</td>\n",
       "      <td>₹300</td>\n",
       "      <td>₹100 discount on 1st order</td>\n",
       "    </tr>\n",
       "    <tr>\n",
       "      <th>5</th>\n",
       "      <td>Women stylish Handbag</td>\n",
       "      <td>₹219</td>\n",
       "      <td>₹93 discount on 1st order</td>\n",
       "    </tr>\n",
       "    <tr>\n",
       "      <th>6</th>\n",
       "      <td>Women stylish Handbag With Sling Handel</td>\n",
       "      <td>₹230</td>\n",
       "      <td>₹98 discount on 1st order</td>\n",
       "    </tr>\n",
       "    <tr>\n",
       "      <th>7</th>\n",
       "      <td>AVI Stylish Multicolour Women Handbag</td>\n",
       "      <td>₹299</td>\n",
       "      <td>₹100 discount on 1st order</td>\n",
       "    </tr>\n",
       "    <tr>\n",
       "      <th>8</th>\n",
       "      <td>AZED Collections Women's PU Leather Handbag - ...</td>\n",
       "      <td>₹712</td>\n",
       "      <td>₹100 discount on 1st order</td>\n",
       "    </tr>\n",
       "    <tr>\n",
       "      <th>9</th>\n",
       "      <td>Verma Jute Lunch Bag with Zip for Office and H...</td>\n",
       "      <td>₹186</td>\n",
       "      <td>₹79 discount on 1st order</td>\n",
       "    </tr>\n",
       "    <tr>\n",
       "      <th>10</th>\n",
       "      <td>Woman &amp; Girl's Handbag</td>\n",
       "      <td>₹310</td>\n",
       "      <td>₹100 discount on 1st order</td>\n",
       "    </tr>\n",
       "    <tr>\n",
       "      <th>11</th>\n",
       "      <td>Elegant Stylish Women Handbags</td>\n",
       "      <td>₹300</td>\n",
       "      <td>₹100 discount on 1st order</td>\n",
       "    </tr>\n",
       "    <tr>\n",
       "      <th>12</th>\n",
       "      <td>Voguish Attractive Women Handbags</td>\n",
       "      <td>₹800</td>\n",
       "      <td>₹100 discount on 1st order</td>\n",
       "    </tr>\n",
       "    <tr>\n",
       "      <th>13</th>\n",
       "      <td>Trendy Alluring Women Handbags</td>\n",
       "      <td>₹210</td>\n",
       "      <td>₹90 discount on 1st order</td>\n",
       "    </tr>\n",
       "    <tr>\n",
       "      <th>14</th>\n",
       "      <td>HandBag</td>\n",
       "      <td>₹213</td>\n",
       "      <td>₹90 discount on 1st order</td>\n",
       "    </tr>\n",
       "    <tr>\n",
       "      <th>15</th>\n",
       "      <td>Voguish Stylish Women Handbags</td>\n",
       "      <td>₹300</td>\n",
       "      <td>₹100 discount on 1st order</td>\n",
       "    </tr>\n",
       "    <tr>\n",
       "      <th>16</th>\n",
       "      <td>Graceful Fancy Women Handbags</td>\n",
       "      <td>₹182</td>\n",
       "      <td>₹77 discount on 1st order</td>\n",
       "    </tr>\n",
       "    <tr>\n",
       "      <th>17</th>\n",
       "      <td>Flamebird Graceful Fashionable Women Handbags</td>\n",
       "      <td>₹215</td>\n",
       "      <td>₹92 discount on 1st order</td>\n",
       "    </tr>\n",
       "    <tr>\n",
       "      <th>18</th>\n",
       "      <td>Elegant Fancy Women Handbags</td>\n",
       "      <td>₹500</td>\n",
       "      <td>₹100 discount on 1st order</td>\n",
       "    </tr>\n",
       "    <tr>\n",
       "      <th>19</th>\n",
       "      <td>Trendy Versatile Women Handbags</td>\n",
       "      <td>₹400</td>\n",
       "      <td>₹100 discount on 1st order</td>\n",
       "    </tr>\n",
       "  </tbody>\n",
       "</table>\n",
       "</div>"
      ],
      "text/plain": [
       "                                         product name prices  \\\n",
       "0              AVI Stylish Multicolour Women Handbags   ₹299   \n",
       "1                              Ladies Tote Bag Brown    ₹375   \n",
       "2                     Ravishing Classy Women Handbags   ₹300   \n",
       "3                              Bag with wooden handle  ₹1295   \n",
       "4                         Trendy Fancy Women Handbags   ₹300   \n",
       "5                               Women stylish Handbag   ₹219   \n",
       "6             Women stylish Handbag With Sling Handel   ₹230   \n",
       "7               AVI Stylish Multicolour Women Handbag   ₹299   \n",
       "8   AZED Collections Women's PU Leather Handbag - ...   ₹712   \n",
       "9   Verma Jute Lunch Bag with Zip for Office and H...   ₹186   \n",
       "10                             Woman & Girl's Handbag   ₹310   \n",
       "11                     Elegant Stylish Women Handbags   ₹300   \n",
       "12                  Voguish Attractive Women Handbags   ₹800   \n",
       "13                     Trendy Alluring Women Handbags   ₹210   \n",
       "14                                            HandBag   ₹213   \n",
       "15                     Voguish Stylish Women Handbags   ₹300   \n",
       "16                      Graceful Fancy Women Handbags   ₹182   \n",
       "17      Flamebird Graceful Fashionable Women Handbags   ₹215   \n",
       "18                       Elegant Fancy Women Handbags   ₹500   \n",
       "19                    Trendy Versatile Women Handbags   ₹400   \n",
       "\n",
       "                     discounts  \n",
       "0   ₹100 discount on 1st order  \n",
       "1   ₹100 discount on 1st order  \n",
       "2   ₹100 discount on 1st order  \n",
       "3   ₹100 discount on 1st order  \n",
       "4   ₹100 discount on 1st order  \n",
       "5    ₹93 discount on 1st order  \n",
       "6    ₹98 discount on 1st order  \n",
       "7   ₹100 discount on 1st order  \n",
       "8   ₹100 discount on 1st order  \n",
       "9    ₹79 discount on 1st order  \n",
       "10  ₹100 discount on 1st order  \n",
       "11  ₹100 discount on 1st order  \n",
       "12  ₹100 discount on 1st order  \n",
       "13   ₹90 discount on 1st order  \n",
       "14   ₹90 discount on 1st order  \n",
       "15  ₹100 discount on 1st order  \n",
       "16   ₹77 discount on 1st order  \n",
       "17   ₹92 discount on 1st order  \n",
       "18  ₹100 discount on 1st order  \n",
       "19  ₹100 discount on 1st order  "
      ]
     },
     "execution_count": 78,
     "metadata": {},
     "output_type": "execute_result"
    }
   ],
   "source": [
    "import pandas as pd\n",
    "df= pd.DataFrame({'product name':names,'prices':prices,'discounts':discounts})\n",
    "df"
   ]
  }
 ],
 "metadata": {
  "kernelspec": {
   "display_name": "Python 3",
   "language": "python",
   "name": "python3"
  },
  "language_info": {
   "codemirror_mode": {
    "name": "ipython",
    "version": 3
   },
   "file_extension": ".py",
   "mimetype": "text/x-python",
   "name": "python",
   "nbconvert_exporter": "python",
   "pygments_lexer": "ipython3",
   "version": "3.8.8"
  }
 },
 "nbformat": 4,
 "nbformat_minor": 5
}
