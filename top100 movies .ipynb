{
 "cells": [
  {
   "cell_type": "code",
   "execution_count": 4,
   "id": "bb9e586e",
   "metadata": {},
   "outputs": [
    {
     "name": "stdout",
     "output_type": "stream",
     "text": [
      "Requirement already satisfied: requests in c:\\users\\ayushi\\anaconda3\\lib\\site-packages (2.25.1)\n",
      "Requirement already satisfied: urllib3<1.27,>=1.21.1 in c:\\users\\ayushi\\anaconda3\\lib\\site-packages (from requests) (1.26.4)\n",
      "Requirement already satisfied: certifi>=2017.4.17 in c:\\users\\ayushi\\anaconda3\\lib\\site-packages (from requests) (2020.12.5)\n",
      "Requirement already satisfied: chardet<5,>=3.0.2 in c:\\users\\ayushi\\anaconda3\\lib\\site-packages (from requests) (4.0.0)\n",
      "Requirement already satisfied: idna<3,>=2.5 in c:\\users\\ayushi\\anaconda3\\lib\\site-packages (from requests) (2.10)\n",
      "Requirement already satisfied: bs4 in c:\\users\\ayushi\\anaconda3\\lib\\site-packages (0.0.1)\n",
      "Requirement already satisfied: beautifulsoup4 in c:\\users\\ayushi\\anaconda3\\lib\\site-packages (from bs4) (4.9.3)\n",
      "Requirement already satisfied: soupsieve>1.2 in c:\\users\\ayushi\\anaconda3\\lib\\site-packages (from beautifulsoup4->bs4) (2.2.1)\n"
     ]
    }
   ],
   "source": [
    "!pip install requests\n",
    "!pip install bs4"
   ]
  },
  {
   "cell_type": "code",
   "execution_count": 5,
   "id": "28aa107b",
   "metadata": {},
   "outputs": [],
   "source": [
    "from bs4 import BeautifulSoup\n",
    "import requests"
   ]
  },
  {
   "cell_type": "code",
   "execution_count": 73,
   "id": "8f178ea0",
   "metadata": {},
   "outputs": [],
   "source": [
    "page=requests.get('https://www.imdb.com/search/title/?groups=top_100&sort=user_rating,desc&ref_=adv_prv')\n",
    "page1=requests.get('https://www.imdb.com/search/title/?groups=top_100&sort=user_rating,desc&start=51&ref_=adv_nxt')"
   ]
  },
  {
   "cell_type": "code",
   "execution_count": 7,
   "id": "5eabbfb5",
   "metadata": {},
   "outputs": [
    {
     "data": {
      "text/plain": [
       "<Response [200]>"
      ]
     },
     "execution_count": 7,
     "metadata": {},
     "output_type": "execute_result"
    }
   ],
   "source": [
    "page"
   ]
  },
  {
   "cell_type": "code",
   "execution_count": 74,
   "id": "4ea15181",
   "metadata": {},
   "outputs": [
    {
     "data": {
      "text/plain": [
       "<Response [200]>"
      ]
     },
     "execution_count": 74,
     "metadata": {},
     "output_type": "execute_result"
    }
   ],
   "source": [
    "page1"
   ]
  },
  {
   "cell_type": "code",
   "execution_count": 75,
   "id": "10242025",
   "metadata": {},
   "outputs": [],
   "source": [
    "A=BeautifulSoup(page.content)\n",
    "B=BeautifulSoup(page1.content)"
   ]
  },
  {
   "cell_type": "code",
   "execution_count": 98,
   "id": "f47ec6d7",
   "metadata": {},
   "outputs": [],
   "source": [
    "titles=[]\n",
    "for i in A.find_all('h3',class_=\"lister-item-header\"):\n",
    "    titles.append(i.find(\"a\").text)\n",
    "titles1=[]\n",
    "for l in B.find_all('h3',class_=\"lister-item-header\"):\n",
    "    titles1.append(l.find(\"a\").text)"
   ]
  },
  {
   "cell_type": "code",
   "execution_count": 94,
   "id": "7a22b5fe",
   "metadata": {},
   "outputs": [],
   "source": [
    "ratings=[]\n",
    "for j in A.find_all('div',class_=\"ratings-imdb-rating\"):\n",
    "    ratings.append(j.text.strip())\n",
    "ratings1=[]\n",
    "for m in B.find_all('div',class_=\"ratings-imdb-rating\"):\n",
    "    ratings1.append(m.text.strip())"
   ]
  },
  {
   "cell_type": "code",
   "execution_count": 84,
   "id": "5632bf11",
   "metadata": {},
   "outputs": [],
   "source": [
    "years=[]\n",
    "for k in A.find_all('span',class_=\"lister-item-year\"):\n",
    "    years.append(k.text)\n",
    "years1=[]\n",
    "for n in B.find_all('span',class_=\"lister-item-year\"):\n",
    "    years1.append(n.text)"
   ]
  },
  {
   "cell_type": "code",
   "execution_count": 91,
   "id": "8966eecb",
   "metadata": {},
   "outputs": [
    {
     "name": "stdout",
     "output_type": "stream",
     "text": [
      "50 50 50\n"
     ]
    }
   ],
   "source": [
    "print(len(titles),len(ratings),len(years))"
   ]
  }
 ],
 "metadata": {
  "kernelspec": {
   "display_name": "Python 3",
   "language": "python",
   "name": "python3"
  },
  "language_info": {
   "codemirror_mode": {
    "name": "ipython",
    "version": 3
   },
   "file_extension": ".py",
   "mimetype": "text/x-python",
   "name": "python",
   "nbconvert_exporter": "python",
   "pygments_lexer": "ipython3",
   "version": "3.8.8"
  }
 },
 "nbformat": 4,
 "nbformat_minor": 5
}
